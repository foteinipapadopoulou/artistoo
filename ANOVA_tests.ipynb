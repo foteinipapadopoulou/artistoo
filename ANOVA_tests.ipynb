{
  "nbformat": 4,
  "nbformat_minor": 0,
  "metadata": {
    "colab": {
      "provenance": []
    },
    "kernelspec": {
      "name": "python3",
      "display_name": "Python 3"
    },
    "language_info": {
      "name": "python"
    }
  },
  "cells": [
    {
      "cell_type": "code",
      "execution_count": 39,
      "metadata": {
        "id": "jjx_x7oG6ocz"
      },
      "outputs": [],
      "source": [
        "from scipy.stats import f_oneway\n",
        "import pandas as pd\n",
        "import numpy as np"
      ]
    },
    {
      "cell_type": "markdown",
      "source": [
        "Performing an ANOVA test on the means of the dot products, in the case of 50 cells in different scenarios of obstacle density"
      ],
      "metadata": {
        "id": "_vYYzO-60CPx"
      }
    },
    {
      "cell_type": "code",
      "source": [
        "#Reading the files for 50 cells on different number of obstacles\n",
        "with open('graph_data_no_50.txt', 'r') as file:\n",
        "    lines = file.readlines()\n",
        "\n",
        "# Separate values and create a list of tuples, taking the second value and making it float\n",
        "dot_50_no = [tuple(line.strip().split()) for line in lines]\n",
        "dot_50_no = [float(t[1])/100 for t in dot_50_no]\n",
        "\n",
        "with open('graph_data_3x3_50.txt', 'r') as file:\n",
        "    lines = file.readlines()\n",
        "\n",
        "# Separate values and create a list of tuples, taking the second value and making it float\n",
        "dot_50_3 = [tuple(line.strip().split()) for line in lines]\n",
        "dot_50_3 = [float(t[1])/100 for t in dot_50_3]\n",
        "\n",
        "with open('graph_data_4x4_50.txt', 'r') as file:\n",
        "    lines = file.readlines()\n",
        "\n",
        "# Separate values and create a list of tuples, taking the second value and making it float\n",
        "dot_50_4 = [tuple(line.strip().split()) for line in lines]\n",
        "dot_50_4 = [float(t[1])/100 for t in dot_50_4]\n",
        "\n",
        "with open('graph_data_5x5_50.txt', 'r') as file:\n",
        "    lines = file.readlines()\n",
        "\n",
        "# Separate values and create a list of tuples, taking the second value and making it float\n",
        "dot_50_5 = [tuple(line.strip().split()) for line in lines]\n",
        "dot_50_5 = [float(t[1])/100 for t in dot_50_5]\n",
        "\n",
        "dots_50 = [dot_50_no, dot_50_3, dot_50_4, dot_50_5]"
      ],
      "metadata": {
        "id": "W5xD2hxZoAIC"
      },
      "execution_count": 57,
      "outputs": []
    },
    {
      "cell_type": "code",
      "source": [
        "#Computing the means of the dot products\n",
        "means = [round(np.mean(dot),2) for dot in dots_50]\n",
        "print(means)"
      ],
      "metadata": {
        "colab": {
          "base_uri": "https://localhost:8080/"
        },
        "id": "AjU1_xjFwjKM",
        "outputId": "6c4e8f2c-1b0f-4e93-b5d7-353629d58041"
      },
      "execution_count": 58,
      "outputs": [
        {
          "output_type": "stream",
          "name": "stdout",
          "text": [
            "[0.52, 0.27, 0.06, 0.05]\n"
          ]
        }
      ]
    },
    {
      "cell_type": "code",
      "source": [
        "#Performing ANOVA test on some of the means of the dot products\n",
        "f1, p1 = f_oneway(dot_50_no, dot_50_3 )\n",
        "\n",
        "f2, p2 = f_oneway(dot_50_no, dot_50_4 )\n",
        "\n",
        "f3, p3 = f_oneway(dot_50_no, dot_50_5 )\n",
        "\n",
        "f4, p4 = f_oneway(dot_50_3, dot_50_4 )\n",
        "\n",
        "f5, p5 = f_oneway(dot_50_4, dot_50_5 )\n",
        "\n",
        "p_values = [globals()[f'p{i}'] for i in range(1,6)]\n",
        "p_values = [round(num,3) for num in p_values]\n",
        "print(p_values)"
      ],
      "metadata": {
        "colab": {
          "base_uri": "https://localhost:8080/"
        },
        "id": "L0JXfK_cpdQH",
        "outputId": "e1cab29d-4bae-4bd0-bd2b-374c9b87c45a"
      },
      "execution_count": 52,
      "outputs": [
        {
          "output_type": "stream",
          "name": "stdout",
          "text": [
            "[0.0, 0.0, 0.0, 0.0, 0.019]\n"
          ]
        }
      ]
    },
    {
      "cell_type": "markdown",
      "source": [
        "Doing the same thing for 150 cells."
      ],
      "metadata": {
        "id": "mmtPUgn0z6rb"
      }
    },
    {
      "cell_type": "code",
      "source": [
        "#Reading the files for 50 cells on different number of obstacles\n",
        "with open('graph_data_no_150.txt', 'r') as file:\n",
        "    lines = file.readlines()\n",
        "\n",
        "# Separate values and create a list of tuples, taking the second value and making it float\n",
        "dot_150_no = [tuple(line.strip().split()) for line in lines]\n",
        "dot_150_no = [float(t[1])/100 for t in dot_150_no]\n",
        "\n",
        "with open('graph_data_3x3_150.txt', 'r') as file:\n",
        "    lines = file.readlines()\n",
        "\n",
        "# Separate values and create a list of tuples, taking the second value and making it float\n",
        "dot_150_3 = [tuple(line.strip().split()) for line in lines]\n",
        "dot_150_3 = [float(t[1])/100 for t in dot_150_3]\n",
        "\n",
        "with open('graph_data_4x4_50.txt', 'r') as file:\n",
        "    lines = file.readlines()\n",
        "\n",
        "# Separate values and create a list of tuples, taking the second value and making it float\n",
        "dot_150_4 = [tuple(line.strip().split()) for line in lines]\n",
        "dot_150_4 = [float(t[1])/100 for t in dot_150_4]\n",
        "\n",
        "with open('graph_data_5x5_50.txt', 'r') as file:\n",
        "    lines = file.readlines()\n",
        "\n",
        "# Separate values and create a list of tuples, taking the second value and making it float\n",
        "dot_150_5 = [tuple(line.strip().split()) for line in lines]\n",
        "dot_150_5 = [float(t[1])/100 for t in dot_150_5]\n",
        "\n",
        "dots_150 = [dot_150_no, dot_150_3, dot_150_4, dot_150_5]"
      ],
      "metadata": {
        "id": "11HBeCMiz3Cz"
      },
      "execution_count": 59,
      "outputs": []
    },
    {
      "cell_type": "code",
      "source": [
        "#Computing the means of the dot products\n",
        "means = [round(np.mean(dot),2) for dot in dots_150]\n",
        "print(means)"
      ],
      "metadata": {
        "colab": {
          "base_uri": "https://localhost:8080/"
        },
        "id": "0SaIBPM4z4X_",
        "outputId": "fa05a9d8-77dd-4d54-f2cf-4905caee0711"
      },
      "execution_count": 60,
      "outputs": [
        {
          "output_type": "stream",
          "name": "stdout",
          "text": [
            "[0.58, 0.43, 0.06, 0.05]\n"
          ]
        }
      ]
    },
    {
      "cell_type": "code",
      "source": [
        "#Performing ANOVA test on some of the means of the dot products\n",
        "f1, p1 = f_oneway(dot_150_no, dot_150_3 )\n",
        "\n",
        "f2, p2 = f_oneway(dot_150_no, dot_150_4 )\n",
        "\n",
        "f3, p3 = f_oneway(dot_150_no, dot_150_5 )\n",
        "\n",
        "f4, p4 = f_oneway(dot_150_3, dot_150_4 )\n",
        "\n",
        "f5, p5 = f_oneway(dot_150_4, dot_150_5 )\n",
        "\n",
        "p_values = [globals()[f'p{i}'] for i in range(1,6)]\n",
        "p_values = [round(num,3) for num in p_values]\n",
        "print(p_values)"
      ],
      "metadata": {
        "colab": {
          "base_uri": "https://localhost:8080/"
        },
        "id": "8utKDzgW0bl_",
        "outputId": "7994b410-06ff-457d-9456-9841b57b6a4d"
      },
      "execution_count": 61,
      "outputs": [
        {
          "output_type": "stream",
          "name": "stdout",
          "text": [
            "[0.0, 0.0, 0.0, 0.0, 0.019]\n"
          ]
        }
      ]
    }
  ]
}